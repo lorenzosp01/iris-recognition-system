{
 "cells": [
  {
   "metadata": {},
   "cell_type": "markdown",
   "source": "### Iris Recognition using Full Eye Image",
   "id": "686712e0fee96acf"
  },
  {
   "metadata": {},
   "cell_type": "markdown",
   "source": "#### 1. Importing Libraries",
   "id": "5209a6af99573de"
  },
  {
   "metadata": {},
   "cell_type": "code",
   "outputs": [],
   "execution_count": null,
   "source": [
    "import numpy as np\n",
    "from sklearn.metrics.pairwise import cosine_similarity\n",
    "from torch.utils.data import DataLoader, Subset\n",
    "from torchvision import transforms as tt\n",
    "from src.lib.cnn_utils import load_model, identification_test_all_vs_all, verification_all_vs_all, \\\n",
    "    generate_embeddings, identification_test_probe_vs_gallery, verification_probe_vs_gallery\n",
    "from src.data.CasiaIrisDataset import CasiaIrisDataset\n",
    "from src.data.datasetUtils import splitDataset, split_dataset_gallery_test\n",
    "from src.utils.plotting import plot_far_frr_roc\n",
    "import torch"
   ],
   "id": "838eaa6ecbe3ad43"
  },
  {
   "metadata": {},
   "cell_type": "markdown",
   "source": "#### 2. Configuration",
   "id": "e3bf5df4c91c31ea"
  },
  {
   "metadata": {},
   "cell_type": "code",
   "outputs": [],
   "execution_count": null,
   "source": [
    "# Dataset Path\n",
    "datasetPath = \"F:\\\\Dataset\\\\Casia\"\n",
    "# Model Path\n",
    "modelPath = \".\\\\models\\\\modelFullEyeMargin040.pth\"\n",
    "# Device\n",
    "device = 'cuda' if torch.cuda.is_available() else 'cpu'"
   ],
   "id": "b6b3407a630c15ab"
  },
  {
   "metadata": {},
   "cell_type": "markdown",
   "source": "#### 3. Loading the Model",
   "id": "2f7992fc9dba391f"
  },
  {
   "metadata": {},
   "cell_type": "code",
   "outputs": [],
   "execution_count": null,
   "source": [
    "net = load_model(modelPath)\n",
    "if net is None:\n",
    "    print(\"Model not found\")\n",
    "    exit(1)\n",
    "else:\n",
    "    # Move the model to the device\n",
    "    net.to(device)\n",
    "    # Set the model to evaluation mode\n",
    "    net.eval()"
   ],
   "id": "74134de56ceb5284"
  },
  {
   "metadata": {},
   "cell_type": "markdown",
   "source": "#### 4. Loading the Dataset",
   "id": "65fff57e7c469c99"
  },
  {
   "metadata": {},
   "cell_type": "code",
   "outputs": [],
   "execution_count": null,
   "source": [
    "# Transformations\n",
    "transform = tt.Compose([\n",
    "        tt.ToTensor(),  # Convert to tensor\n",
    "])\n",
    "\n",
    "# Load the dataset\n",
    "dataset = CasiaIrisDataset(datasetPath, transform=[transform], centered=True)\n",
    "\n",
    "# Splitting the Dataset: Train(70%), Validation(10%), Test(20%\n",
    "train_dataset, val_dataset, test_dataset = splitDataset(dataset, 0.2, 0.1)\n",
    "\n",
    "# Set the dataset to evaluation mode\n",
    "dataset.eval()\n",
    "\n",
    "# Load the test dataset\n",
    "all_vs_all_dataset = DataLoader(dataset=test_dataset, batch_size=64, num_workers=8, pin_memory=True)"
   ],
   "id": "1ed2892e576895d8"
  },
  {
   "metadata": {},
   "cell_type": "markdown",
   "source": "#### 5. All vs All Test",
   "id": "9ff09c7a6aad8753"
  },
  {
   "metadata": {},
   "cell_type": "markdown",
   "source": "##### 5.1. Generate Embeddings",
   "id": "227a84a6c1bfe64"
  },
  {
   "metadata": {},
   "cell_type": "code",
   "outputs": [],
   "execution_count": null,
   "source": [
    "# Generate embeddings\n",
    "embedding_list, labels_list = generate_embeddings(device, net, all_vs_all_dataset)"
   ],
   "id": "1cc9fe9f472ffbe8"
  },
  {
   "metadata": {},
   "cell_type": "markdown",
   "source": "##### 5.2. Merge the Embeddings into a Matrix",
   "id": "eac106402b3b0abd"
  },
  {
   "metadata": {},
   "cell_type": "code",
   "outputs": [],
   "execution_count": null,
   "source": [
    "embedding_array = embedding_list.numpy()\n",
    "\n",
    "# Compute the cosine similarity matrix and convert it to a dissimilarity matrix\n",
    "M = - cosine_similarity(embedding_array)\n",
    "\n",
    "# Round the cosine similarity to 3 decimal places\n",
    "M = np.round(M, 3)\n",
    "\n",
    "# Normalize the cosine similarity to [0, 1]\n",
    "M = (M + 1) / 2"
   ],
   "id": "791adf4c8e721012"
  },
  {
   "metadata": {},
   "cell_type": "markdown",
   "source": "##### 5.3. Identification Test",
   "id": "e99498fa698afcde"
  },
  {
   "metadata": {},
   "cell_type": "code",
   "outputs": [],
   "execution_count": null,
   "source": [
    "# Compute the thresholds, DIR, GRR, FAR, FRR\n",
    "thresholds, DIR, GRR, FAR, FRR = identification_test_all_vs_all(M, labels_list)\n",
    "\n",
    "# Plot the FAR, FRR, Rank-1, GRR and EER\n",
    "plot_far_frr_roc(thresholds, FAR, FRR, GRR, DIR=np.array(DIR), roc=True, titleRoc=\"ROC Curve - Identification - All vs all\", titleEer=\"FAR, FRR, Rank-1, GRR and EER - Identification - All vs all\")\n"
   ],
   "id": "d1527557580a6193"
  },
  {
   "metadata": {},
   "cell_type": "markdown",
   "source": "##### 5.3. Verification Test",
   "id": "8ab7f2069ce904ce"
  },
  {
   "metadata": {},
   "cell_type": "code",
   "outputs": [],
   "execution_count": null,
   "source": [
    "# Compute the GAR, FAR, FRR, GRR\n",
    "GAR, FAR, FRR, GRR = verification_all_vs_all(M, labels_list)\n",
    "\n",
    "# Plot the FAR, FRR, Rank-1, GRR and EER\n",
    "plot_far_frr_roc(thresholds, FAR, FRR, GRR, DIR=None, titleEer=\"FAR, FRR, Rank-1, GRR and EER - Verification - All vs all\")"
   ],
   "id": "8ec042a5a5ab1889"
  },
  {
   "metadata": {},
   "cell_type": "markdown",
   "source": "#### 6. Probe vs Gallery Test",
   "id": "171a15c246c5b91e"
  },
  {
   "metadata": {},
   "cell_type": "markdown",
   "source": "##### 6.1. Split the Dataset",
   "id": "7ba2cba9d8d87178"
  },
  {
   "metadata": {},
   "cell_type": "code",
   "outputs": [],
   "execution_count": null,
   "source": [
    "# Split the dataset into gallery and probe\n",
    "gallery, probe = split_dataset_gallery_test(test_dataset, gallery_ratio=0.6, seed=20)\n",
    "\n",
    "gallery = Subset(test_dataset, gallery)\n",
    "probe = Subset(test_dataset, probe)\n",
    "\n",
    "# Load the gallery and probe dataset\n",
    "gallery_dataset = DataLoader(dataset=gallery, batch_size=64, shuffle=False, num_workers=8, pin_memory=False)\n",
    "probe_dataset = DataLoader(dataset=probe, batch_size=64, shuffle=False, num_workers=8, pin_memory=False)"
   ],
   "id": "aec981fd7183ef6c"
  },
  {
   "metadata": {},
   "cell_type": "markdown",
   "source": "##### 6.2. Generate Embeddings",
   "id": "a314d4384beaceaf"
  },
  {
   "metadata": {},
   "cell_type": "code",
   "outputs": [],
   "execution_count": null,
   "source": [
    "# Generate embeddings for gallery and probe\n",
    "embedding_list_gallery, labels_list_gallery = generate_embeddings(device, net, gallery_dataset)\n",
    "embedding_list_probe, labels_list_probe = generate_embeddings(device, net, probe_dataset)"
   ],
   "id": "c4c63c02c32485dc"
  },
  {
   "metadata": {},
   "cell_type": "markdown",
   "source": "##### 6.3. Merge the Embeddings into a Matrix",
   "id": "8c71a9adeab912dd"
  },
  {
   "metadata": {},
   "cell_type": "code",
   "outputs": [],
   "execution_count": null,
   "source": [
    "embedding_list_gallery = embedding_list_gallery.numpy()\n",
    "embedding_list_probe = embedding_list_probe.numpy()\n",
    "\n",
    "# Compute the cosine similarity matrix and convert it to a dissimilarity matrix\n",
    "M = - cosine_similarity(embedding_list_probe, embedding_list_gallery)\n",
    "# Normalize the cosine similarity to [0, 1]\n",
    "M = (np.round(M, 3) + 1) / 2"
   ],
   "id": "b87a1fb76b9eb656"
  },
  {
   "metadata": {},
   "cell_type": "markdown",
   "source": "##### 6.4. Identification Test",
   "id": "34295ed89a47e569"
  },
  {
   "metadata": {},
   "cell_type": "code",
   "outputs": [],
   "execution_count": null,
   "source": [
    "# Compute the thresholds, DIR, GRR, FAR, FRR\n",
    "thresholds, DIR, GRR, FAR, FRR = identification_test_probe_vs_gallery(M, labels_list_probe, labels_list_gallery)\n",
    "\n",
    "# Plot the FAR, FRR, Rank-1, GRR and EER\n",
    "plot_far_frr_roc(thresholds, FAR, FRR, GRR, DIR=np.array(DIR), roc=True, titleRoc=\"ROC Curve - Identification - Probe vs Gallery\", titleEer=\"FAR, FRR, Rank-1, GRR and EER - Indentification - Probe vs Gallery\")"
   ],
   "id": "a8d57117be5803d1"
  },
  {
   "metadata": {},
   "cell_type": "markdown",
   "source": "##### 6.5. Verification Test",
   "id": "9602d3e2c67e592a"
  },
  {
   "metadata": {},
   "cell_type": "code",
   "outputs": [],
   "execution_count": null,
   "source": [
    "# Compute the GAR, FAR, FRR, GRR\n",
    "GAR, FAR, FRR, GRR = verification_probe_vs_gallery(M, labels_list_probe, labels_list_gallery)\n",
    "\n",
    "# Plot the FAR, FRR, Rank-1, GRR and EER\n",
    "plot_far_frr_roc(thresholds, FAR, FRR, GRR, DIR=None, titleEer=\"FAR, FRR, Rank-1, GRR and EER - Verification - Probe vs Gallery\")"
   ],
   "id": "60370816203f9be4"
  }
 ],
 "metadata": {
  "kernelspec": {
   "display_name": "Python 3",
   "language": "python",
   "name": "python3"
  },
  "language_info": {
   "codemirror_mode": {
    "name": "ipython",
    "version": 2
   },
   "file_extension": ".py",
   "mimetype": "text/x-python",
   "name": "python",
   "nbconvert_exporter": "python",
   "pygments_lexer": "ipython2",
   "version": "2.7.6"
  }
 },
 "nbformat": 4,
 "nbformat_minor": 5
}
